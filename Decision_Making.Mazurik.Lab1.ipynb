{
 "cells": [
  {
   "cell_type": "code",
   "execution_count": 55,
   "metadata": {
    "collapsed": false
   },
   "outputs": [],
   "source": [
    "# Importing\n",
    "import matplotlib.pyplot as plt; plt.rcdefaults()\n",
    "import numpy as np\n",
    "import matplotlib.pyplot as plt"
   ]
  },
  {
   "cell_type": "code",
   "execution_count": 56,
   "metadata": {
    "collapsed": true
   },
   "outputs": [],
   "source": [
    "# Initializing data\n",
    "answers = np.array([\n",
    "    [0.1, 0.1, 0.4, 0.2, 0.2],\n",
    "    [0.7, 0.4, 0.1, 0.3, 0.2],\n",
    "    [0.1, 0.3, 0.3, 0.1, 0.3],\n",
    "    [0.05, 0.1, 0.1, 0.1, 0.1]\n",
    "])\n",
    "\n",
    "experts_count = 4\n",
    "questions_count = 5"
   ]
  },
  {
   "cell_type": "code",
   "execution_count": 57,
   "metadata": {
    "collapsed": false
   },
   "outputs": [
    {
     "name": "stdout",
     "output_type": "stream",
     "text": [
      "[[[ 0.    0.    0.    0.  ]\n",
      "  [ 0.6   0.    0.    0.  ]\n",
      "  [ 0.    0.6   0.    0.  ]\n",
      "  [ 0.05  0.65  0.05  0.  ]]\n",
      "\n",
      " [[ 0.    0.    0.    0.  ]\n",
      "  [ 0.3   0.    0.    0.  ]\n",
      "  [ 0.2   0.1   0.    0.  ]\n",
      "  [ 0.    0.3   0.2   0.  ]]\n",
      "\n",
      " [[ 0.    0.    0.    0.  ]\n",
      "  [ 0.3   0.    0.    0.  ]\n",
      "  [ 0.1   0.2   0.    0.  ]\n",
      "  [ 0.3   0.    0.2   0.  ]]\n",
      "\n",
      " [[ 0.    0.    0.    0.  ]\n",
      "  [ 0.1   0.    0.    0.  ]\n",
      "  [ 0.1   0.2   0.    0.  ]\n",
      "  [ 0.1   0.2   0.    0.  ]]\n",
      "\n",
      " [[ 0.    0.    0.    0.  ]\n",
      "  [ 0.    0.    0.    0.  ]\n",
      "  [ 0.1   0.1   0.    0.  ]\n",
      "  [ 0.1   0.1   0.2   0.  ]]]\n",
      "[ 0.05  0.1   0.1   0.1   0.1 ]\n"
     ]
    }
   ],
   "source": [
    "# Calculating T-matrices\n",
    "T_matrices = np.zeros((questions_count,experts_count,experts_count))\n",
    "min_matr_values = np.array([999999., 999999., 999999., 999999., 999999.])\n",
    "\n",
    "for q_ind, T in enumerate(T_matrices):\n",
    "    for j, j_item in enumerate(T):\n",
    "        for i, i_item in enumerate(T[j]):\n",
    "            if (i > j):\n",
    "                diff = abs(answers[i][q_ind] - answers[j][q_ind])\n",
    "                if ((diff > 0) and (min_matr_values[q_ind] > diff)):\n",
    "                    min_matr_values[q_ind] = diff\n",
    "                T[i][j] = diff\n",
    "\n",
    "print(T_matrices)\n",
    "print(min_matr_values)"
   ]
  },
  {
   "cell_type": "code",
   "execution_count": 58,
   "metadata": {
    "collapsed": false
   },
   "outputs": [
    {
     "name": "stdout",
     "output_type": "stream",
     "text": [
      "[[[  0.    0.    0.    0. ]\n",
      "  [  1.7   0.    0.    0. ]\n",
      "  [ 20.    1.7   0.    0. ]\n",
      "  [ 20.    1.5  20.    0. ]]\n",
      "\n",
      " [[  0.    0.    0.    0. ]\n",
      "  [  3.3   0.    0.    0. ]\n",
      "  [  5.   10.    0.    0. ]\n",
      "  [ 10.    3.3   5.    0. ]]\n",
      "\n",
      " [[  0.    0.    0.    0. ]\n",
      "  [  3.3   0.    0.    0. ]\n",
      "  [ 10.    5.    0.    0. ]\n",
      "  [  3.3  10.    5.    0. ]]\n",
      "\n",
      " [[  0.    0.    0.    0. ]\n",
      "  [ 10.    0.    0.    0. ]\n",
      "  [ 10.    5.    0.    0. ]\n",
      "  [ 10.    5.   10.    0. ]]\n",
      "\n",
      " [[  0.    0.    0.    0. ]\n",
      "  [ 10.    0.    0.    0. ]\n",
      "  [ 10.   10.    0.    0. ]\n",
      "  [ 10.   10.    5.    0. ]]]\n"
     ]
    }
   ],
   "source": [
    "# Calculating inverted T-matrices\n",
    "\n",
    "T_inv_matrices = np.zeros((questions_count,experts_count,experts_count))\n",
    "\n",
    "for q_ind, T in enumerate(T_matrices):\n",
    "    for j, j_item in enumerate(T):\n",
    "        for i, i_item in enumerate(T[j]):\n",
    "            if (i > j):\n",
    "                T_value = T[i][j]\n",
    "                if(T_value > 0):\n",
    "                    T_inv_matrices[q_ind][i][j] = round(1/T_value, 1)\n",
    "                else:\n",
    "                    T_inv_matrices[q_ind][i][j] = round(1/min_matr_values[q_ind], 1)\n",
    "                    \n",
    "                    \n",
    "print(T_inv_matrices)"
   ]
  },
  {
   "cell_type": "code",
   "execution_count": 59,
   "metadata": {
    "collapsed": false
   },
   "outputs": [
    {
     "name": "stdout",
     "output_type": "stream",
     "text": [
      "Sum T-Matrix:\n",
      "[[  0.    0.    0.    0. ]\n",
      " [ 28.3   0.    0.    0. ]\n",
      " [ 55.   31.7   0.    0. ]\n",
      " [ 53.3  29.8  45.    0. ]]\n",
      "------------------------\n",
      "Normalized sum T-Matrix:\n",
      "[[ 0.    0.    0.    0.  ]\n",
      " [ 0.12  0.    0.    0.  ]\n",
      " [ 0.23  0.13  0.    0.  ]\n",
      " [ 0.22  0.12  0.19  0.  ]]\n"
     ]
    }
   ],
   "source": [
    "# Calculating sum matrix\n",
    "\n",
    "T_sum_matr = np.zeros((experts_count, experts_count))\n",
    "T_norm_sum_matr = np.zeros((experts_count, experts_count))\n",
    "\n",
    "for q in range(0,questions_count):\n",
    "    T_sum_matr += T_inv_matrices[q]\n",
    "    \n",
    "print('Sum T-Matrix:')\n",
    "print(T_sum_matr)\n",
    "print('------------------------')\n",
    "    \n",
    "# Normalizing sum matrix\n",
    "total_sum = T_sum_matr.sum()\n",
    "\n",
    "for i, row in enumerate(T_sum_matr):\n",
    "    for j, elem in enumerate(row):\n",
    "        T_norm_sum_matr[i][j] = round(T_sum_matr[i][j] / total_sum, 2)\n",
    "        \n",
    "print('Normalized sum T-Matrix:')\n",
    "print(T_norm_sum_matr)"
   ]
  },
  {
   "cell_type": "code",
   "execution_count": 60,
   "metadata": {
    "collapsed": false
   },
   "outputs": [
    {
     "name": "stdout",
     "output_type": "stream",
     "text": [
      "Experts competitiveness:\n",
      "[ 0.57  0.37  0.55  0.53]\n",
      "----------------------------\n",
      "Normalized xperts competitiveness:\n",
      "[ 0.28  0.18  0.27  0.26]\n"
     ]
    }
   ],
   "source": [
    "experts_competitiveness = np.zeros(experts_count)\n",
    "\n",
    "for exp_ind in range(0, experts_count):\n",
    "    for i, row in enumerate(T_sum_matr):\n",
    "            for j, elem in enumerate(row):\n",
    "                if ((i > j) and (i == exp_ind or j == exp_ind)):\n",
    "                    experts_competitiveness[exp_ind] += T_norm_sum_matr[i][j]\n",
    "\n",
    "print('Experts competitiveness:')\n",
    "print(experts_competitiveness)   \n",
    "print('----------------------------')\n",
    "\n",
    "comp_sum = experts_competitiveness.sum()\n",
    "\n",
    "for exp_ind in range(0, experts_count):\n",
    "    experts_competitiveness[exp_ind] = round(experts_competitiveness[exp_ind] / comp_sum, 2)\n",
    "\n",
    "print('Normalized xperts competitiveness:')\n",
    "print(experts_competitiveness)"
   ]
  },
  {
   "cell_type": "code",
   "execution_count": 61,
   "metadata": {
    "collapsed": false
   },
   "outputs": [
    {
     "data": {
      "image/png": "[encoded data removed]",
      "text/plain": [
       "<matplotlib.figure.Figure at 0x118784668>"
      ]
     },
     "metadata": {},
     "output_type": "display_data"
    }
   ],
   "source": [
    "# Printing results\n",
    "\n",
    "labels = [('Expert #' + str(ind + 1)) for ind in range(0,experts_count)]\n",
    "y_pos = np.arange(len(labels))\n",
    "\n",
    "plt.bar(y_pos, experts_competitiveness, align='center', alpha=0.5)\n",
    "plt.xticks(y_pos, labels)\n",
    "plt.title('Experts competitiveness')\n",
    "plt.show()"
   ]
  }
 ],
 "metadata": {
  "kernelspec": {
   "display_name": "Python 3",
   "language": "python",
   "name": "python3"
  },
  "language_info": {
   "codemirror_mode": {
    "name": "ipython",
    "version": 3
   },
   "file_extension": ".py",
   "mimetype": "text/x-python",
   "name": "python",
   "nbconvert_exporter": "python",
   "pygments_lexer": "ipython3",
   "version": "3.6.0"
  }
 },
 "nbformat": 4,
 "nbformat_minor": 2
}
